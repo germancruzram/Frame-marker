{
  "cells": [
    {
      "cell_type": "markdown",
      "metadata": {
        "id": "view-in-github",
        "colab_type": "text"
      },
      "source": [
        "<a href=\"https://colab.research.google.com/github/germancruzram/Frame-marker/blob/main/Frame_maker_shared.ipynb\" target=\"_parent\"><img src=\"https://colab.research.google.com/assets/colab-badge.svg\" alt=\"Open In Colab\"/></a>"
      ]
    },
    {
      "cell_type": "markdown",
      "source": [
        "# **PYTHON PARA UN PROYECTO VIAL♠**  "
      ],
      "metadata": {
        "id": "vSBQN9gq0FkZ"
      }
    },
    {
      "cell_type": "markdown",
      "source": [
        "Ing. German Cruz R.🇳\n"
      ],
      "metadata": {
        "id": "xA-feiytn-fV"
      }
    },
    {
      "cell_type": "markdown",
      "source": [
        "# **1. INSTALANDO LAS LIBRERIAS A UTILIZAR**"
      ],
      "metadata": {
        "id": "Qfeqh2f7j2y1"
      }
    },
    {
      "cell_type": "code",
      "source": [
        "!pip install exifread\n",
        "!pip install piexif\n",
        "!!pip install geopy\n",
        "!pip install rarfile\n",
        "!pip install pillow\n",
        "!pip install Pillow piexif\n",
        "!pip install gdown\n",
        "!sudo apt-get update\n",
        "!sudo apt-get install unrar -y"
      ],
      "metadata": {
        "id": "qz-TFOXEJRgn",
        "colab": {
          "base_uri": "https://localhost:8080/"
        },
        "outputId": "d86168d2-ff0c-4aa6-adaf-58aa4d137d19"
      },
      "execution_count": 5,
      "outputs": [
        {
          "output_type": "stream",
          "name": "stdout",
          "text": [
            "Requirement already satisfied: exifread in /usr/local/lib/python3.10/dist-packages (3.0.0)\n",
            "Requirement already satisfied: piexif in /usr/local/lib/python3.10/dist-packages (1.1.3)\n",
            "Requirement already satisfied: rarfile in /usr/local/lib/python3.10/dist-packages (4.2)\n",
            "Requirement already satisfied: pillow in /usr/local/lib/python3.10/dist-packages (9.4.0)\n",
            "Requirement already satisfied: Pillow in /usr/local/lib/python3.10/dist-packages (9.4.0)\n",
            "Requirement already satisfied: piexif in /usr/local/lib/python3.10/dist-packages (1.1.3)\n",
            "Requirement already satisfied: gdown in /usr/local/lib/python3.10/dist-packages (5.1.0)\n",
            "Requirement already satisfied: beautifulsoup4 in /usr/local/lib/python3.10/dist-packages (from gdown) (4.12.3)\n",
            "Requirement already satisfied: filelock in /usr/local/lib/python3.10/dist-packages (from gdown) (3.15.1)\n",
            "Requirement already satisfied: requests[socks] in /usr/local/lib/python3.10/dist-packages (from gdown) (2.31.0)\n",
            "Requirement already satisfied: tqdm in /usr/local/lib/python3.10/dist-packages (from gdown) (4.66.4)\n",
            "Requirement already satisfied: soupsieve>1.2 in /usr/local/lib/python3.10/dist-packages (from beautifulsoup4->gdown) (2.5)\n",
            "Requirement already satisfied: charset-normalizer<4,>=2 in /usr/local/lib/python3.10/dist-packages (from requests[socks]->gdown) (3.3.2)\n",
            "Requirement already satisfied: idna<4,>=2.5 in /usr/local/lib/python3.10/dist-packages (from requests[socks]->gdown) (3.7)\n",
            "Requirement already satisfied: urllib3<3,>=1.21.1 in /usr/local/lib/python3.10/dist-packages (from requests[socks]->gdown) (1.26.19)\n",
            "Requirement already satisfied: certifi>=2017.4.17 in /usr/local/lib/python3.10/dist-packages (from requests[socks]->gdown) (2024.6.2)\n",
            "Requirement already satisfied: PySocks!=1.5.7,>=1.5.6 in /usr/local/lib/python3.10/dist-packages (from requests[socks]->gdown) (1.7.1)\n",
            "Hit:1 http://security.ubuntu.com/ubuntu jammy-security InRelease\n",
            "Hit:2 https://cloud.r-project.org/bin/linux/ubuntu jammy-cran40/ InRelease\n",
            "Hit:3 http://archive.ubuntu.com/ubuntu jammy InRelease\n",
            "Hit:4 https://developer.download.nvidia.com/compute/cuda/repos/ubuntu2204/x86_64  InRelease\n",
            "Hit:5 http://archive.ubuntu.com/ubuntu jammy-updates InRelease\n",
            "Hit:6 http://archive.ubuntu.com/ubuntu jammy-backports InRelease\n",
            "Hit:7 https://ppa.launchpadcontent.net/c2d4u.team/c2d4u4.0+/ubuntu jammy InRelease\n",
            "Hit:8 https://ppa.launchpadcontent.net/deadsnakes/ppa/ubuntu jammy InRelease\n",
            "Hit:9 https://ppa.launchpadcontent.net/graphics-drivers/ppa/ubuntu jammy InRelease\n",
            "Hit:10 https://ppa.launchpadcontent.net/ubuntugis/ppa/ubuntu jammy InRelease\n",
            "Reading package lists... Done\n",
            "Reading package lists... Done\n",
            "Building dependency tree... Done\n",
            "Reading state information... Done\n",
            "unrar is already the newest version (1:6.1.5-1).\n",
            "0 upgraded, 0 newly installed, 0 to remove and 45 not upgraded.\n"
          ]
        }
      ]
    },
    {
      "cell_type": "markdown",
      "source": [
        "# **2.CONFIGURANDO CARPETAS DE TRABAJO**"
      ],
      "metadata": {
        "id": "Ta1yHMvsM5GD"
      }
    },
    {
      "cell_type": "code",
      "source": [
        "import os\n",
        "\n",
        "\n",
        "folder_paths = [\"/content/imagenes\", \"/content/imagenes_con_telemetria\"]\n",
        "\n",
        "for folder_path in folder_paths:\n",
        "    if not os.path.exists(folder_path):\n",
        "        os.makedirs(folder_path)\n",
        "        print(f\"La carpeta {folder_path} ha sido creada con éxito.\")\n",
        "    else:\n",
        "        print(f\"La carpeta {folder_path} ya existe.\")\n",
        "    !ls\n"
      ],
      "metadata": {
        "id": "uLCNaQzlW45F",
        "colab": {
          "base_uri": "https://localhost:8080/"
        },
        "outputId": "06214efa-b100-4fe4-f969-3dae444a1012"
      },
      "execution_count": 6,
      "outputs": [
        {
          "output_type": "stream",
          "name": "stdout",
          "text": [
            "La carpeta /content/imagenes ya existe.\n",
            "imagenes  imagenes_con_telemetria  sample_data\n",
            "La carpeta /content/imagenes_con_telemetria ya existe.\n",
            "imagenes  imagenes_con_telemetria  sample_data\n"
          ]
        }
      ]
    },
    {
      "cell_type": "markdown",
      "source": [
        "**RECUERDE CARGAR LAS IMAGENES EN LA CARPETA \"IMAGENES\"**\n",
        "\n",
        "**INDIQUE LA CARPETA EN DRIVE PARA IMPORTARLA\"**"
      ],
      "metadata": {
        "id": "DT9RvSahfr2r"
      }
    },
    {
      "cell_type": "code",
      "source": [
        "# Importar la biblioteca necesaria\n",
        "from google.colab import drive\n",
        "\n",
        "# Montar Google Drive\n",
        "drive.mount('/content/drive')\n"
      ],
      "metadata": {
        "colab": {
          "base_uri": "https://localhost:8080/"
        },
        "id": "V6khRHgJwiwp",
        "outputId": "f9ee2c1e-fbd1-4855-9bf2-9f8384f80342"
      },
      "execution_count": 16,
      "outputs": [
        {
          "output_type": "stream",
          "name": "stdout",
          "text": [
            "Drive already mounted at /content/drive; to attempt to forcibly remount, call drive.mount(\"/content/drive\", force_remount=True).\n"
          ]
        }
      ]
    },
    {
      "cell_type": "code",
      "source": [
        "import shutil\n",
        "import os\n",
        "\n",
        "# Ruta de origen en Google Drive\n",
        "source_folder = '/content/drive/My Drive/100'\n",
        "\n",
        "# Ruta de destino en el entorno de Colab\n",
        "destination_folder = '/content/imagenes'\n",
        "\n",
        "# Crear el directorio de destino si no existe\n",
        "if not os.path.exists(destination_folder):\n",
        "    os.makedirs(destination_folder)\n",
        "\n",
        "# Copiar todos los archivos y carpetas del directorio de origen al de destino\n",
        "for item in os.listdir(source_folder):\n",
        "    source_path = os.path.join(source_folder, item)\n",
        "    destination_path = os.path.join(destination_folder, item)\n",
        "\n",
        "    if os.path.isdir(source_path):\n",
        "        # Copiar directorio\n",
        "        shutil.copytree(source_path, destination_path)\n",
        "    else:\n",
        "        # Copiar archivo\n",
        "        shutil.copy2(source_path, destination_path)\n",
        "\n",
        "print(f'Contenido de {source_folder} copiado a {destination_folder}')\n"
      ],
      "metadata": {
        "colab": {
          "base_uri": "https://localhost:8080/"
        },
        "id": "mQYqw4lPysgQ",
        "outputId": "f85dd512-0030-4c01-94ea-0763317464fb"
      },
      "execution_count": 17,
      "outputs": [
        {
          "output_type": "stream",
          "name": "stdout",
          "text": [
            "Contenido de /content/drive/My Drive/100 copiado a /content/imagenes\n"
          ]
        }
      ]
    },
    {
      "cell_type": "markdown",
      "source": [
        "# **3.COMPRIMIENDO IMAGENES**"
      ],
      "metadata": {
        "id": "EpYgXsXvNAzI"
      }
    },
    {
      "cell_type": "code",
      "source": [
        "import os\n",
        "from PIL import Image\n",
        "from concurrent.futures import ThreadPoolExecutor\n",
        "\n",
        "\n",
        "image_folder = '/content/imagenes'\n",
        "\n",
        "new_resolution = (1280, 1024)\n",
        "\n",
        "def resize_image_with_exif(image_path, new_resolution):\n",
        "    try:\n",
        "        with Image.open(image_path) as img:\n",
        "            exif = img.info.get('exif')\n",
        "            img = img.resize(new_resolution, Image.LANCZOS)\n",
        "            img.save(image_path, exif=exif)\n",
        "        print(f\"Redimensionado {image_path}\")\n",
        "    except Exception as e:\n",
        "        print(f\"Error redimensionando {image_path}: {e}\")\n",
        "\n",
        "def resize_images_in_folder(image_folder, new_resolution):\n",
        "    image_files = [os.path.join(image_folder, f) for f in os.listdir(image_folder) if f.lower().endswith(('png', 'jpg', 'jpeg', 'tiff', 'bmp', 'gif'))]\n",
        "\n",
        "    original_filenames = set(image_files)\n",
        "\n",
        "    with ThreadPoolExecutor() as executor:\n",
        "        futures = [executor.submit(resize_image_with_exif, image_path, new_resolution) for image_path in image_files]\n",
        "        for future in futures:\n",
        "            future.result()\n",
        "\n",
        "    resized_filenames = set(os.path.join(image_folder, f) for f in os.listdir(image_folder) if f.lower().endswith(('png', 'jpg', 'jpeg', 'tiff', 'bmp', 'gif')))\n",
        "\n",
        "    if original_filenames == resized_filenames:\n",
        "        print(\"Nombres de archivos consistentes después de redimensionar\")\n",
        "    else:\n",
        "        print(\"Advertencia: Los nombres de los archivos han cambiado\")\n",
        "\n",
        "resize_images_in_folder(image_folder, new_resolution)\n",
        "print(\"Imágenes redimensionadas y guardadas en la carpeta\", image_folder)"
      ],
      "metadata": {
        "id": "jk7TiE-mMA1k"
      },
      "execution_count": null,
      "outputs": []
    },
    {
      "cell_type": "markdown",
      "source": [
        "# **4.ORDENANDO LAS FOTOS SECUENCIALMENTE**"
      ],
      "metadata": {
        "id": "46SBxuDjYHTC"
      }
    },
    {
      "cell_type": "code",
      "source": [
        "import os\n",
        "import piexif\n",
        "import exifread\n",
        "\n",
        "def get_image_datetime(image_path):\n",
        "    \"\"\"\n",
        "    Obtiene la fecha y hora de captura de una imagen utilizando la información Exif.\n",
        "    Args:\n",
        "        image_path (str): La ruta de la imagen.\n",
        "    Returns:\n",
        "        str: La fecha y hora de captura en formato de cadena si está disponible,\n",
        "             una fecha mínima si no hay información EXIF.\n",
        "    \"\"\"\n",
        "    try:\n",
        "        exif_data = piexif.load(image_path)\n",
        "        date_time_original = exif_data[\"Exif\"][piexif.ExifIFD.DateTimeOriginal]\n",
        "        return date_time_original.decode('utf-8')\n",
        "    except (KeyError, AttributeError, ValueError):\n",
        "        return \"0000:00:00 00:00:00\"  # Fecha mínima si no hay información EXIF\n",
        "\n",
        "def get_coordinates(image_path):\n",
        "    \"\"\"\n",
        "    Obtiene las coordenadas GPS de una imagen utilizando la información Exif.\n",
        "    Args:\n",
        "        image_path (str): La ruta de la imagen.\n",
        "    Returns:\n",
        "        tuple: Una tupla con latitud y longitud en formato decimal si están disponibles,\n",
        "               None si no hay información EXIF.\n",
        "    \"\"\"\n",
        "    try:\n",
        "        with open(image_path, 'rb') as f:\n",
        "            exif_tags = exifread.process_file(f)\n",
        "            if 'GPS GPSLatitude' in exif_tags and 'GPS GPSLongitude' in exif_tags:\n",
        "                lat_deg = float(exif_tags['GPS GPSLatitude'].values[0].num) / float(exif_tags['GPS GPSLatitude'].values[0].den)\n",
        "                lat_min = float(exif_tags['GPS GPSLatitude'].values[1].num) / float(exif_tags['GPS GPSLatitude'].values[1].den)\n",
        "                lat_sec = float(exif_tags['GPS GPSLatitude'].values[2].num) / float(exif_tags['GPS GPSLatitude'].values[2].den)\n",
        "                latitude_dec = lat_deg + (lat_min / 60.0) + (lat_sec / 3600.0)\n",
        "                if exif_tags['GPS GPSLatitudeRef'].printable == 'S':\n",
        "                    latitude_dec = -latitude_dec\n",
        "\n",
        "                lon_deg = float(exif_tags['GPS GPSLongitude'].values[0].num) / float(exif_tags['GPS GPSLongitude'].values[0].den)\n",
        "                lon_min = float(exif_tags['GPS GPSLongitude'].values[1].num) / float(exif_tags['GPS GPSLongitude'].values[1].den)\n",
        "                lon_sec = float(exif_tags['GPS GPSLongitude'].values[2].num) / float(exif_tags['GPS GPSLongitude'].values[2].den)\n",
        "                longitude_dec = lon_deg + (lon_min / 60.0) + (lon_sec / 3600.0)\n",
        "                if exif_tags['GPS GPSLongitudeRef'].printable == 'W':\n",
        "                    longitude_dec = -longitude_dec\n",
        "\n",
        "                return latitude_dec, longitude_dec\n",
        "    except Exception as e:\n",
        "        print(f\"Error obteniendo coordenadas de {image_path}: {e}\")\n",
        "    return None\n",
        "\n",
        "def process_images_by_coordinates(folder_path):\n",
        "    \"\"\"\n",
        "    Procesa las imágenes en la carpeta especificada basándose en las coordenadas GPS.\n",
        "    Las imágenes se procesan de forma consecutiva según las coordenadas GPS, desde la primera a la última en la trayectoria.\n",
        "    Args:\n",
        "        folder_path (str): La ruta de la carpeta que contiene las imágenes.\n",
        "    \"\"\"\n",
        "    files = os.listdir(folder_path)\n",
        "    image_files = [file for file in files if file.lower().endswith(('.png', '.jpg', '.jpeg'))]\n",
        "\n",
        "    # Obtener las coordenadas y las fechas de captura de las imágenes\n",
        "    image_data = []\n",
        "    for image_name in image_files:\n",
        "        image_path = os.path.join(folder_path, image_name)\n",
        "        coordinates = get_coordinates(image_path)\n",
        "        datetime = get_image_datetime(image_path)\n",
        "        if coordinates:\n",
        "            image_data.append((image_name, coordinates, datetime))\n",
        "\n",
        "    # Ordenar las imágenes por las coordenadas y luego por la fecha y hora de captura\n",
        "    image_data.sort(key=lambda x: (x[1], x[2]))\n",
        "\n",
        "    # Procesar las imágenes en el orden correcto\n",
        "    for image_name, _, _ in image_data:\n",
        "        image_path = os.path.join(folder_path, image_name)\n",
        "        # Aquí puedes agregar el procesamiento que necesites hacer con cada imagen\n",
        "        print(f\"Procesando {image_name} con coordenadas {_}\")\n",
        "\n",
        "folder_path = \"/content/imagenes\"\n",
        "\n",
        "process_images_by_coordinates(folder_path)\n",
        "\n"
      ],
      "metadata": {
        "id": "6Onmt1EEUX4Z"
      },
      "execution_count": null,
      "outputs": []
    },
    {
      "cell_type": "markdown",
      "source": [
        "# **5.LISTANDO IMAGENES CON COORDENADAS Y CALCULO DE DISTANCIAS 3D**"
      ],
      "metadata": {
        "id": "IvwC3lfWchPN"
      }
    },
    {
      "cell_type": "code",
      "source": [
        "import os\n",
        "import exifread\n",
        "import pandas as pd\n",
        "import math\n",
        "\n",
        "def get_decimal_degrees(dms, ref):\n",
        "    degrees = dms.values[0].num / dms.values[0].den\n",
        "    minutes = dms.values[1].num / dms.values[1].den\n",
        "    seconds = dms.values[2].num / dms.values[2].den\n",
        "    decimal = degrees + (minutes / 60.0) + (seconds / 3600.0)\n",
        "    if ref in ['S', 'W']:\n",
        "        decimal *= -1\n",
        "    return decimal\n",
        "\n",
        "def extract_image_info(image_path, prev_coordinates=None, accumulated_distance=0):\n",
        "    with open(image_path, 'rb') as f:\n",
        "        tags = exifread.process_file(f)\n",
        "        if not tags:\n",
        "            return None, None, None, None, None, 0, accumulated_distance\n",
        "\n",
        "        latitude = tags.get('GPS GPSLatitude')\n",
        "        longitude = tags.get('GPS GPSLongitude')\n",
        "        latitude_ref = tags.get('GPS GPSLatitudeRef')\n",
        "        longitude_ref = tags.get('GPS GPSLongitudeRef')\n",
        "        altitude = tags.get('GPS GPSAltitude')\n",
        "        date_time = tags.get('EXIF DateTimeOriginal')\n",
        "\n",
        "        if latitude and longitude and latitude_ref and longitude_ref:\n",
        "            latitude_dec = get_decimal_degrees(latitude, latitude_ref.printable)\n",
        "            longitude_dec = get_decimal_degrees(longitude, longitude_ref.printable)\n",
        "        else:\n",
        "            latitude_dec, longitude_dec = None, None\n",
        "\n",
        "        altitude_val = altitude.values[0].num / altitude.values[0].den if altitude else None\n",
        "        date_time_str = str(date_time) if date_time else None\n",
        "\n",
        "        distance = 0\n",
        "        if prev_coordinates and latitude_dec is not None and longitude_dec is not None:\n",
        "            if altitude_val is not None:\n",
        "\n",
        "                lat1 = math.radians(prev_coordinates[0])\n",
        "                lon1 = math.radians(prev_coordinates[1])\n",
        "                lat2 = math.radians(latitude_dec)\n",
        "                lon2 = math.radians(longitude_dec)\n",
        "\n",
        "                R = 6371.0 * 1000\n",
        "                d_altitude = abs(altitude_val - prev_coordinates[2])\n",
        "                dlat = lat2 - lat1\n",
        "                dlon = lon2 - lon1\n",
        "\n",
        "                a = math.sin(dlat / 2) ** 2 + math.cos(lat1) * math.cos(lat2) * math.sin(dlon / 2) ** 2\n",
        "                c = 2 * math.atan2(math.sqrt(a), math.sqrt(1 - a))\n",
        "                distance_horizontal = R * c\n",
        "                distance = math.sqrt(distance_horizontal ** 2 + d_altitude ** 2) / 1000  # Convertir a kilómetros\n",
        "\n",
        "        accumulated_distance += distance\n",
        "\n",
        "        return (os.path.basename(image_path), latitude_dec, longitude_dec, altitude_val, date_time_str, distance, round(accumulated_distance, 4))\n",
        "\n",
        "def create_excel_with_image_info(folder_path, excel_path, initial_accumulated_distance=0):\n",
        "    image_info_list = []\n",
        "    prev_coordinates = None\n",
        "    accumulated_distance = initial_accumulated_distance\n",
        "\n",
        "    for filename in sorted(os.listdir(folder_path)):\n",
        "        if filename.lower().endswith((\".jpg\", \".jpeg\", \".png\")):\n",
        "            image_path = os.path.join(folder_path, filename)\n",
        "            info = extract_image_info(image_path, prev_coordinates, accumulated_distance)\n",
        "            if info[1] is not None and info[2] is not None:\n",
        "                prev_coordinates = (info[1], info[2], info[3])\n",
        "                accumulated_distance = info[6]\n",
        "            image_info_list.append(info)\n",
        "\n",
        "    df = pd.DataFrame(image_info_list, columns=['Nombre del Archivo', 'Latitud', 'Longitud', 'Altitud', 'Fecha y Hora', 'Distancia (km)', 'Distancia Acumulada (km)'])\n",
        "    df.sort_values(by=['Fecha y Hora'], inplace=True)\n",
        "    df.to_excel(excel_path, index=False)\n",
        "    print(\"Excel generado con éxito.\")\n",
        "\n",
        "\n",
        "folder_path = \"/content/imagenes\"\n",
        "excel_path = \"/content/informacion_imagenes.xlsx\"\n",
        "initial_accumulated_distance = float(input(\"Ingrese el valor inicial de distancia acumulada: \"))\n",
        "create_excel_with_image_info(folder_path, excel_path, initial_accumulated_distance)\n",
        "\n",
        "!ls"
      ],
      "metadata": {
        "colab": {
          "base_uri": "https://localhost:8080/"
        },
        "id": "ZdjkeTYwg4v7",
        "outputId": "0ff89f9e-0cc7-4c4b-c490-4fdfc6735f68"
      },
      "execution_count": 20,
      "outputs": [
        {
          "output_type": "stream",
          "name": "stderr",
          "text": [
            "/usr/local/lib/python3.10/dist-packages/pandas/core/arrays/masked.py:64: RuntimeWarning: coroutine 'main' was never awaited\n",
            "  from pandas.core import (\n",
            "RuntimeWarning: Enable tracemalloc to get the object allocation traceback\n"
          ]
        },
        {
          "output_type": "stream",
          "name": "stdout",
          "text": [
            "Ingrese el valor inicial de distancia acumulada: 0\n",
            "Excel generado con éxito.\n",
            "drive  imagenes  imagenes_con_telemetria  informacion_imagenes.xlsx  sample_data\n"
          ]
        }
      ]
    },
    {
      "cell_type": "markdown",
      "source": [
        "# **6.MARCADO DE FOTOGRAFIAS** ✏\n",
        "\n",
        "1.   Coordenadas geográficas\n",
        "2.   Fecha y hora de captura\n",
        "3.   Referencia kilométrica\n",
        "\n",
        "\n",
        "\n",
        "\n"
      ],
      "metadata": {
        "id": "JkFMF3thPLHg"
      }
    },
    {
      "cell_type": "code",
      "source": [
        "import os\n",
        "from PIL import Image, ImageDraw, ImageFont\n",
        "from datetime import datetime\n",
        "import exifread\n",
        "import zipfile\n",
        "import piexif\n",
        "import pandas as pd\n",
        "from concurrent.futures import ThreadPoolExecutor\n",
        "\n",
        "# Ruta de la carpeta con las imágenes\n",
        "folder_path = \"/content/imagenes\"\n",
        "output_folder_path = \"/content/imagenes_con_telemetria\"\n",
        "excel_path = \"/content/informacion_imagenes.xlsx\"\n",
        "zip_output_path = '/content/imagenes_con_telemetria.zip'\n",
        "\n",
        "# Crear carpeta de salida si no existe\n",
        "if not os.path.exists(output_folder_path):\n",
        "    os.makedirs(output_folder_path)\n",
        "\n",
        "# Cargar datos del archivo Excel\n",
        "df = pd.read_excel(excel_path)\n",
        "\n",
        "# Rutas de las fuentes\n",
        "font_path = \"/usr/share/fonts/truetype/liberation/LiberationSans-Bold.ttf\"\n",
        "font_size_coords = 30\n",
        "font_size_datetime = 30\n",
        "font_size_distance = 40\n",
        "text_color = (255, 255, 255)\n",
        "\n",
        "# Función para obtener coordenadas GPS\n",
        "def get_coordinates(image_path):\n",
        "    try:\n",
        "        with open(image_path, 'rb') as f:\n",
        "            exif_tags = exifread.process_file(f)\n",
        "            if 'GPS GPSLatitude' in exif_tags and 'GPS GPSLongitude' in exif_tags:\n",
        "                lat_deg = float(exif_tags['GPS GPSLatitude'].values[0].num) / float(exif_tags['GPS GPSLatitude'].values[0].den)\n",
        "                lat_min = float(exif_tags['GPS GPSLatitude'].values[1].num) / float(exif_tags['GPS GPSLatitude'].values[1].den)\n",
        "                lat_sec = float(exif_tags['GPS GPSLatitude'].values[2].num) / float(exif_tags['GPS GPSLatitude'].values[2].den)\n",
        "                latitude_dec = lat_deg + (lat_min / 60.0) + (lat_sec / 3600.0)\n",
        "                lon_deg = float(exif_tags['GPS GPSLongitude'].values[0].num) / float(exif_tags['GPS GPSLongitude'].values[0].den)\n",
        "                lon_min = float(exif_tags['GPS GPSLongitude'].values[1].num) / float(exif_tags['GPS GPSLongitude'].values[1].den)\n",
        "                lon_sec = float(exif_tags['GPS GPSLongitude'].values[2].num) / float(exif_tags['GPS GPSLongitude'].values[2].den)\n",
        "                longitude_dec = lon_deg + (lon_min / 60.0) + (lon_sec / 3600.0)\n",
        "                lat_dir = exif_tags['GPS GPSLatitudeRef'].printable\n",
        "                lon_dir = exif_tags['GPS GPSLongitudeRef'].printable\n",
        "                return latitude_dec, lat_dir, longitude_dec, lon_dir\n",
        "    except Exception as e:\n",
        "        print(f\"Error obteniendo coordenadas de {image_path}: {e}\")\n",
        "    return None\n",
        "\n",
        "# Función para agregar telemetría a la imagen\n",
        "def add_telemetry(image_path, df):\n",
        "    try:\n",
        "        img = Image.open(image_path)\n",
        "        draw = ImageDraw.Draw(img)\n",
        "        coordinates = get_coordinates(image_path)\n",
        "\n",
        "        # Añadir coordenadas GPS\n",
        "        if coordinates:\n",
        "            latitude_dec, lat_dir, longitude_dec, lon_dir = coordinates\n",
        "            font_coords = ImageFont.truetype(font_path, size=font_size_coords)\n",
        "            latitud = f\"Lat: {latitude_dec:.5f} {lat_dir}\"\n",
        "            longitud = f\"Long: {longitude_dec:.5f} {lon_dir}\"\n",
        "            position_lat = (50, img.height - font_size_coords*2.5)\n",
        "            position_long = (50, img.height - font_size_coords*1.35)\n",
        "            draw.text(position_lat, latitud, fill=text_color, font=font_coords)\n",
        "            draw.text(position_long, longitud, fill=text_color, font=font_coords)\n",
        "\n",
        "        # Añadir fecha y hora de captura\n",
        "        exif_data = img._getexif()\n",
        "        if exif_data and 36867 in exif_data:\n",
        "            capture_datetime = exif_data[36867]\n",
        "            capture_datetime = datetime.strptime(capture_datetime, \"%Y:%m:%d %H:%M:%S\")\n",
        "            capture_datetime_str = capture_datetime.strftime(\"%Y-%m-%d %H:%M:%S\")\n",
        "            font_datetime = ImageFont.truetype(font_path, size=font_size_datetime)\n",
        "            text_bbox = draw.textbbox((0, 0), capture_datetime_str, font=font_datetime)\n",
        "            position_datetime = (img.width - text_bbox[2] - 50, img.height - text_bbox[3] - 50)\n",
        "            draw.text(position_datetime, capture_datetime_str, fill=text_color, font=font_datetime)\n",
        "\n",
        "        # Añadir distancia acumulada\n",
        "        font_distance = ImageFont.truetype(font_path, size=font_size_distance)\n",
        "        distance = df[df['Nombre del Archivo'] == os.path.basename(image_path)]['Distancia Acumulada (km)'].iloc[0]\n",
        "        integer_part = int(distance)\n",
        "        decimal_part = int((distance - integer_part) * 1000)\n",
        "        distance_str = f\"PKM {integer_part}+{decimal_part:03d}\"\n",
        "        text_bbox = draw.textbbox((0, 0), distance_str, font=font_distance)\n",
        "        position_distance = ((img.width - text_bbox[2]) // 2, img.height - text_bbox[3] - 20)\n",
        "        draw.text(position_distance, distance_str, fill=text_color, font=font_distance)\n",
        "\n",
        "        # Guardar la imagen con la telemetría agregada\n",
        "        output_path = os.path.join(output_folder_path, os.path.basename(image_path))\n",
        "        img.save(output_path, exif=img.info.get(\"exif\", b\"\"))\n",
        "        return output_path\n",
        "    except Exception as e:\n",
        "        print(f\"Error procesando {image_path}: {e}\")\n",
        "        return None\n",
        "\n",
        "# Procesar imágenes en paralelo\n",
        "def process_images_parallel(folder_path, df):\n",
        "    image_files = [os.path.join(folder_path, f) for f in os.listdir(folder_path) if f.lower().endswith(('.jpg', '.jpeg', '.png'))]\n",
        "    with ThreadPoolExecutor() as executor:\n",
        "        results = list(executor.map(lambda image_path: add_telemetry(image_path, df), image_files))\n",
        "    return [result for result in results if result is not None]\n",
        "\n",
        "# Ejecutar el procesamiento de las imágenes\n",
        "processed_images = process_images_parallel(folder_path, df)\n",
        "\n",
        "# Crear un archivo ZIP con las imágenes procesadas\n",
        "with zipfile.ZipFile(zip_output_path, 'w') as zipf:\n",
        "    for image_path in processed_images:\n",
        "        zipf.write(image_path, arcname=os.path.basename(image_path))\n",
        "\n",
        "print(f\"Imágenes procesadas y guardadas en {zip_output_path}\")\n",
        "\n"
      ],
      "metadata": {
        "id": "MFqwH51NXYCk",
        "colab": {
          "base_uri": "https://localhost:8080/"
        },
        "outputId": "66c67ffe-0e5d-4c5c-c4d0-b7327ebd523a"
      },
      "execution_count": 21,
      "outputs": [
        {
          "output_type": "stream",
          "name": "stdout",
          "text": [
            "Imágenes procesadas y guardadas en /content/imagenes_con_telemetria.zip\n"
          ]
        }
      ]
    },
    {
      "cell_type": "code",
      "source": [
        "import os\n",
        "from zipfile import ZipFile\n",
        "\n",
        "# Ruta de la carpeta a comprimir\n",
        "folder_path = '/content/imagenes'\n",
        "\n",
        "# Nombre del archivo ZIP\n",
        "zip_filename = 'imagenes.zip'\n",
        "\n",
        "# Crear el archivo ZIP\n",
        "with ZipFile(zip_filename, 'w') as zip_file:\n",
        "    # Recorrer todos los archivos y carpetas dentro de la carpeta\n",
        "    for root, dirs, files in os.walk(folder_path):\n",
        "        for file in files:\n",
        "            # Construir la ruta completa del archivo\n",
        "            file_path = os.path.join(root, file)\n",
        "            # Agregar el archivo al archivo ZIP\n",
        "            zip_file.write(file_path)\n",
        "\n",
        "print(f'La carpeta \"{folder_path}\" se ha comprimido en el archivo \"{zip_filename}\".')\n",
        "\n",
        "# Descargar el archivo ZIP\n",
        "from google.colab import files\n",
        "files.download(zip_filename)\n"
      ],
      "metadata": {
        "id": "JP9Aff7pimrP",
        "outputId": "749eb3c4-258d-4c3e-ca35-74426ea2d935",
        "colab": {
          "base_uri": "https://localhost:8080/",
          "height": 34
        }
      },
      "execution_count": 22,
      "outputs": [
        {
          "output_type": "stream",
          "name": "stdout",
          "text": [
            "La carpeta \"/content/imagenes\" se ha comprimido en el archivo \"imagenes.zip\".\n"
          ]
        },
        {
          "output_type": "display_data",
          "data": {
            "text/plain": [
              "<IPython.core.display.Javascript object>"
            ],
            "application/javascript": [
              "\n",
              "    async function download(id, filename, size) {\n",
              "      if (!google.colab.kernel.accessAllowed) {\n",
              "        return;\n",
              "      }\n",
              "      const div = document.createElement('div');\n",
              "      const label = document.createElement('label');\n",
              "      label.textContent = `Downloading \"${filename}\": `;\n",
              "      div.appendChild(label);\n",
              "      const progress = document.createElement('progress');\n",
              "      progress.max = size;\n",
              "      div.appendChild(progress);\n",
              "      document.body.appendChild(div);\n",
              "\n",
              "      const buffers = [];\n",
              "      let downloaded = 0;\n",
              "\n",
              "      const channel = await google.colab.kernel.comms.open(id);\n",
              "      // Send a message to notify the kernel that we're ready.\n",
              "      channel.send({})\n",
              "\n",
              "      for await (const message of channel.messages) {\n",
              "        // Send a message to notify the kernel that we're ready.\n",
              "        channel.send({})\n",
              "        if (message.buffers) {\n",
              "          for (const buffer of message.buffers) {\n",
              "            buffers.push(buffer);\n",
              "            downloaded += buffer.byteLength;\n",
              "            progress.value = downloaded;\n",
              "          }\n",
              "        }\n",
              "      }\n",
              "      const blob = new Blob(buffers, {type: 'application/binary'});\n",
              "      const a = document.createElement('a');\n",
              "      a.href = window.URL.createObjectURL(blob);\n",
              "      a.download = filename;\n",
              "      div.appendChild(a);\n",
              "      a.click();\n",
              "      div.remove();\n",
              "    }\n",
              "  "
            ]
          },
          "metadata": {}
        },
        {
          "output_type": "display_data",
          "data": {
            "text/plain": [
              "<IPython.core.display.Javascript object>"
            ],
            "application/javascript": [
              "download(\"download_4c247b67-c34f-41ad-8eb1-b670a6740b69\", \"imagenes.zip\", 226493184)"
            ]
          },
          "metadata": {}
        }
      ]
    },
    {
      "cell_type": "markdown",
      "source": [
        "# **7.GENERAR UN MAPA GIS CON LAS IMAGENES ETIQUETADAS**"
      ],
      "metadata": {
        "id": "RRkh12jm3Um-"
      }
    },
    {
      "cell_type": "code",
      "source": [
        "import os\n",
        "import exifread\n",
        "import folium\n",
        "from folium import IFrame\n",
        "import base64\n",
        "import pandas as pd\n",
        "from IPython.display import display, HTML\n",
        "\n",
        "def get_coordinates(tags):\n",
        "    latitude = tags.get('GPS GPSLatitude')\n",
        "    longitude = tags.get('GPS GPSLongitude')\n",
        "    if latitude and longitude:\n",
        "        lat_deg = latitude.values[0].num / latitude.values[0].den\n",
        "        lat_min = latitude.values[1].num / latitude.values[1].den\n",
        "        lat_sec = latitude.values[2].num / latitude.values[2].den\n",
        "        lat_ref = tags.get('GPS GPSLatitudeRef').values\n",
        "        latitude = lat_deg + lat_min / 60.0 + lat_sec / 3600.0\n",
        "        if lat_ref == 'S':\n",
        "            latitude *= -1\n",
        "\n",
        "        lon_deg = longitude.values[0].num / longitude.values[0].den\n",
        "        lon_min = longitude.values[1].num / longitude.values[1].den\n",
        "        lon_sec = longitude.values[2].num / longitude.values[2].den\n",
        "        lon_ref = tags.get('GPS GPSLongitudeRef').values\n",
        "        longitude = lon_deg + lon_min / 60.0 + lon_sec / 3600.0\n",
        "        if lon_ref == 'W':\n",
        "            longitude *= -1\n",
        "\n",
        "        return latitude, longitude\n",
        "    return None\n",
        "\n",
        "def add_image_marker(map_obj, image_path, popup_text):\n",
        "    with open(image_path, 'rb') as f:\n",
        "        tags = exifread.process_file(f)\n",
        "        coordinates = get_coordinates(tags)\n",
        "        if coordinates:\n",
        "            latitude, longitude = coordinates\n",
        "\n",
        "            with open(image_path, \"rb\") as image_file:\n",
        "                encoded_string = base64.b64encode(image_file.read()).decode('utf-8')\n",
        "\n",
        "            popup_html = f'<img src=\"data:image/jpeg;base64,{encoded_string}\" width=\"500px\"><br>{popup_text}'\n",
        "            popup = folium.Popup(IFrame(html=popup_html, width=480, height=360), max_width=2650)\n",
        "            folium.Marker(location=[latitude, longitude], popup=popup).add_to(map_obj)\n",
        "\n",
        "def display_images_on_map(folder_path, df):\n",
        "    coordinates = []\n",
        "    image_paths = [os.path.join(folder_path, f) for f in os.listdir(folder_path) if f.lower().endswith(('jpg', 'jpeg', 'png'))]\n",
        "\n",
        "    for image_path in image_paths:\n",
        "        with open(image_path, 'rb') as f:\n",
        "            tags = exifread.process_file(f)\n",
        "            coords = get_coordinates(tags)\n",
        "            if coords:\n",
        "                coordinates.append(coords)\n",
        "\n",
        "    if coordinates:\n",
        "        centroid = [sum(x[0] for x in coordinates) / len(coordinates), sum(x[1] for x in coordinates) / len(coordinates)]\n",
        "    else:\n",
        "        centroid = [0, 0]\n",
        "\n",
        "    map_obj = folium.Map(location=centroid)\n",
        "\n",
        "    for image_path in image_paths:\n",
        "        with open(image_path, 'rb') as f:\n",
        "            tags = exifread.process_file(f)\n",
        "            if tags:\n",
        "                filename = os.path.basename(image_path)\n",
        "                popup_text = f\"Nombre de archivo: {filename}<br>\"\n",
        "                pkm_info = df[df['Nombre del Archivo'] == filename]\n",
        "                if not pkm_info.empty:\n",
        "                    distance = pkm_info['Distancia Acumulada (km)'].iloc[0]\n",
        "                    integer_part = int(distance)\n",
        "                    decimal_part = int((distance - integer_part) * 1000)\n",
        "                    distance_formatted = f\"{integer_part}+{decimal_part:03d}\"\n",
        "                    popup_text += f\"PKM: {distance_formatted}<br>\"\n",
        "                add_image_marker(map_obj, image_path, popup_text)\n",
        "\n",
        "    map_file = \"mapa_con_imagenes.html\"\n",
        "    map_obj.save(map_file)\n",
        "\n",
        "    # Leer el contenido del archivo HTML\n",
        "    with open(map_file, 'r', encoding='utf-8') as f:\n",
        "        map_html = f.read()\n",
        "\n",
        "    # Mostrar el mapa usando iframe.srcdoc\n",
        "    display(HTML(f'<iframe srcdoc=\"{map_html}\" width=\"100%\" height=\"600px\"></iframe>'))\n",
        "\n",
        "folder_path = \"/content/imagenes_con_telemetria\"\n",
        "excel_path = \"/content/informacion_imagenes.xlsx\"\n",
        "df = pd.read_excel(excel_path)\n",
        "display_images_on_map(folder_path, df)\n",
        "\n"
      ],
      "metadata": {
        "id": "pLXGgq8Pb6A3",
        "colab": {
          "base_uri": "https://localhost:8080/"
        },
        "outputId": "34175cb7-5d03-44c9-eaff-1a4f6da7cea6"
      },
      "execution_count": null,
      "outputs": [
        {
          "output_type": "stream",
          "name": "stderr",
          "text": [
            "/usr/local/lib/python3.10/dist-packages/IPython/core/display.py:724: UserWarning: Consider using IPython.display.IFrame instead\n",
            "  warnings.warn(\"Consider using IPython.display.IFrame instead\")\n"
          ]
        }
      ]
    },
    {
      "cell_type": "markdown",
      "source": [
        "# **8.CREANDO UN KMZ CON IMAGENES EMBEBIDAS**"
      ],
      "metadata": {
        "id": "tP8QsfOmL4-y"
      }
    },
    {
      "cell_type": "code",
      "source": [
        "import os\n",
        "import base64\n",
        "import exifread\n",
        "import zipfile\n",
        "import pandas as pd\n",
        "from PIL import Image\n",
        "from concurrent.futures import ThreadPoolExecutor\n",
        "from google.colab import files\n",
        "\n",
        "def extract_image_info(image_path):\n",
        "    try:\n",
        "        with open(image_path, 'rb') as f:\n",
        "            tags = exifread.process_file(f)\n",
        "            if not tags:\n",
        "                return None, None, None\n",
        "            latitude = tags.get('GPS GPSLatitude')\n",
        "            longitude = tags.get('GPS GPSLongitude')\n",
        "            image_name = os.path.basename(image_path)\n",
        "\n",
        "            if latitude and longitude:\n",
        "                lat_degrees = latitude.values[0].num / latitude.values[0].den\n",
        "                lat_minutes = latitude.values[1].num / latitude.values[1].den\n",
        "                lat_seconds = latitude.values[2].num / latitude.values[2].den\n",
        "                latitude_dec = lat_degrees + (lat_minutes / 60.0) + (lat_seconds / 3600.0)\n",
        "\n",
        "                lon_degrees = longitude.values[0].num / longitude.values[0].den\n",
        "                lon_minutes = longitude.values[1].num / longitude.values[1].den\n",
        "                lon_seconds = longitude.values[2].num / longitude.values[2].den\n",
        "                longitude_dec = lon_degrees + (lon_minutes / 60.0) + (lon_seconds / 3600.0)\n",
        "\n",
        "                lat_dir = tags.get('GPS GPSLatitudeRef').printable\n",
        "                lon_dir = tags.get('GPS GPSLongitudeRef').printable\n",
        "\n",
        "                if lat_dir == 'S':\n",
        "                    latitude_dec *= -1\n",
        "                if lon_dir == 'W':\n",
        "                    longitude_dec *= -1\n",
        "            else:\n",
        "                latitude_dec, longitude_dec = None, None\n",
        "\n",
        "            return latitude_dec, longitude_dec, image_name\n",
        "    except Exception as e:\n",
        "        print(f\"Error extracting info from {image_path}: {e}\")\n",
        "        return None, None, None\n",
        "\n",
        "def compress_image(image_path, output_folder, max_size=(800, 600), quality=85):\n",
        "    try:\n",
        "        with Image.open(image_path) as img:\n",
        "            img.thumbnail(max_size, Image.LANCZOS)\n",
        "            compressed_path = os.path.join(output_folder, os.path.basename(image_path))\n",
        "            img.save(compressed_path, format='JPEG', quality=quality)\n",
        "        return compressed_path\n",
        "    except Exception as e:\n",
        "        print(f\"Error compressing {image_path}: {e}\")\n",
        "        return None\n",
        "\n",
        "def generate_kml_with_images(image_info_list, output_folder, df):\n",
        "    placemark_template = \"\"\"<Placemark>\n",
        "    <name>{}</name>\n",
        "    <description><![CDATA[<img src=\"data:image/jpeg;base64,{}\" height=\"300\" width=\"400\"/>]]></description>\n",
        "    <Point>\n",
        "        <coordinates>{},{},0</coordinates>\n",
        "    </Point>\n",
        "</Placemark>\n",
        "\"\"\"\n",
        "    kml_content = \"\"\"<?xml version=\"1.0\" encoding=\"UTF-8\"?>\n",
        "<kml xmlns=\"http://www.opengis.net/kml/2.2\">\n",
        "<Document>\n",
        "\"\"\"\n",
        "\n",
        "    for latitude, longitude, image_name in image_info_list:\n",
        "        if latitude is not None and longitude is not None:\n",
        "            compressed_image_path = compress_image(os.path.join(folder_path, image_name), output_folder)\n",
        "            if compressed_image_path:\n",
        "                with open(compressed_image_path, 'rb') as f:\n",
        "                    encoded_image = base64.b64encode(f.read()).decode('utf-8')\n",
        "                # Obtener el texto de \"Distancia Acumulada (km)\" del DataFrame\n",
        "                pkm_info = df[df['Nombre del Archivo'] == image_name]\n",
        "                if not pkm_info.empty:\n",
        "                    distance = pkm_info['Distancia Acumulada (km)'].iloc[0]\n",
        "                    distance_str = f\"{distance}\"\n",
        "                else:\n",
        "                    distance_str = \"Sin datos\"\n",
        "                kml_content += placemark_template.format(distance_str, encoded_image, longitude, latitude)\n",
        "                os.remove(compressed_image_path)  # Remove the compressed image after use\n",
        "            else:\n",
        "                print(f\"Failed to compress {image_name}\")\n",
        "\n",
        "    kml_content += \"\"\"</Document>\n",
        "</kml>\"\"\"\n",
        "\n",
        "    return kml_content\n",
        "\n",
        "def process_images(folder_path):\n",
        "    image_info_list = []\n",
        "    with ThreadPoolExecutor() as executor:\n",
        "        futures = [executor.submit(extract_image_info, os.path.join(folder_path, filename))\n",
        "                   for filename in os.listdir(folder_path)\n",
        "                   if filename.lower().endswith(('.jpg', '.jpeg', '.png'))]\n",
        "        for future in futures:\n",
        "            result = future.result()\n",
        "            if result is not None:\n",
        "                image_info_list.append(result)\n",
        "    return image_info_list\n",
        "\n",
        "def generate_kmz(folder_path, kmz_path, df):\n",
        "    output_folder = '/content/temp_images'\n",
        "    os.makedirs(output_folder, exist_ok=True)\n",
        "\n",
        "    print(\"Processing images...\")\n",
        "    image_info_list = process_images(folder_path)\n",
        "    print(\"Generating KML content...\")\n",
        "    kml_content = generate_kml_with_images(image_info_list, output_folder, df)\n",
        "\n",
        "    kml_file = os.path.join(output_folder, \"images.kml\")\n",
        "    with open(kml_file, \"w\") as f:\n",
        "        f.write(kml_content)\n",
        "\n",
        "    print(\"Creating KMZ file...\")\n",
        "    with zipfile.ZipFile(kmz_path, 'w', zipfile.ZIP_DEFLATED) as kmz:\n",
        "        kmz.write(kml_file, arcname=os.path.basename(kml_file))\n",
        "    os.remove(kml_file)\n",
        "\n",
        "    # Comprimir KMZ en un archivo ZIP\n",
        "    zip_path = kmz_path.replace('.kmz', '.zip')\n",
        "    with zipfile.ZipFile(zip_path, 'w', zipfile.ZIP_DEFLATED) as zipf:\n",
        "        zipf.write(kmz_path, arcname=os.path.basename(kmz_path))\n",
        "    os.remove(kmz_path)  # Eliminar el archivo KMZ para evitar duplicidad\n",
        "\n",
        "    # Limpiar la carpeta temporal\n",
        "    for file in os.listdir(output_folder):\n",
        "        os.remove(os.path.join(output_folder, file))\n",
        "    os.rmdir(output_folder)\n",
        "\n",
        "    print(\"KMZ file created and compressed to ZIP.\")\n",
        "    return zip_path\n",
        "\n",
        "folder_path = \"/content/imagenes_con_telemetria\"\n",
        "kmz_path = \"/content/images_KMZ.kmz\"\n",
        "excel_path = \"/content/informacion_imagenes.xlsx\"\n",
        "df = pd.read_excel(excel_path)\n",
        "\n",
        "zip_path = generate_kmz(folder_path, kmz_path, df)\n",
        "\n",
        "# Verificar si el archivo ZIP ha sido creado y permitir su descarga\n",
        "if os.path.exists(zip_path):\n",
        "    print(f\"Archivo ZIP creado: {zip_path}\")\n",
        "    files.download(zip_path)\n",
        "else:\n",
        "    print(\"Error: No se ha creado el archivo ZIP.\")\n"
      ],
      "metadata": {
        "id": "OWRYxMHoL4lI",
        "colab": {
          "base_uri": "https://localhost:8080/",
          "height": 104
        },
        "outputId": "9669b1d5-f237-462d-d893-0bfbfa043a9d"
      },
      "execution_count": null,
      "outputs": [
        {
          "output_type": "stream",
          "name": "stdout",
          "text": [
            "Processing images...\n",
            "Generating KML content...\n",
            "Creating KMZ file...\n",
            "KMZ file created and compressed to ZIP.\n",
            "Archivo ZIP creado: /content/images_KMZ.zip\n"
          ]
        },
        {
          "output_type": "display_data",
          "data": {
            "text/plain": [
              "<IPython.core.display.Javascript object>"
            ],
            "application/javascript": [
              "\n",
              "    async function download(id, filename, size) {\n",
              "      if (!google.colab.kernel.accessAllowed) {\n",
              "        return;\n",
              "      }\n",
              "      const div = document.createElement('div');\n",
              "      const label = document.createElement('label');\n",
              "      label.textContent = `Downloading \"${filename}\": `;\n",
              "      div.appendChild(label);\n",
              "      const progress = document.createElement('progress');\n",
              "      progress.max = size;\n",
              "      div.appendChild(progress);\n",
              "      document.body.appendChild(div);\n",
              "\n",
              "      const buffers = [];\n",
              "      let downloaded = 0;\n",
              "\n",
              "      const channel = await google.colab.kernel.comms.open(id);\n",
              "      // Send a message to notify the kernel that we're ready.\n",
              "      channel.send({})\n",
              "\n",
              "      for await (const message of channel.messages) {\n",
              "        // Send a message to notify the kernel that we're ready.\n",
              "        channel.send({})\n",
              "        if (message.buffers) {\n",
              "          for (const buffer of message.buffers) {\n",
              "            buffers.push(buffer);\n",
              "            downloaded += buffer.byteLength;\n",
              "            progress.value = downloaded;\n",
              "          }\n",
              "        }\n",
              "      }\n",
              "      const blob = new Blob(buffers, {type: 'application/binary'});\n",
              "      const a = document.createElement('a');\n",
              "      a.href = window.URL.createObjectURL(blob);\n",
              "      a.download = filename;\n",
              "      div.appendChild(a);\n",
              "      a.click();\n",
              "      div.remove();\n",
              "    }\n",
              "  "
            ]
          },
          "metadata": {}
        },
        {
          "output_type": "display_data",
          "data": {
            "text/plain": [
              "<IPython.core.display.Javascript object>"
            ],
            "application/javascript": [
              "download(\"download_2367692e-2ead-4620-a907-96b5cd01cc40\", \"images_KMZ.zip\", 82092825)"
            ]
          },
          "metadata": {}
        }
      ]
    },
    {
      "cell_type": "markdown",
      "source": [
        "# **ELIMINAR LA INFORMACION PARA EJECUTAR OTRO ANALISIS**"
      ],
      "metadata": {
        "id": "r6YT2re8pqMy"
      }
    },
    {
      "cell_type": "code",
      "source": [
        "!rm -rf /content/imagenes\n",
        "!rm -rf /content/imagenes_con_telemetria\n",
        "!rm -rf /content/imagenes_con_telemetria.zip\n",
        "!rm -rf /content/images.kmz\n",
        "!rm -rf /content/informacion_imagenes.xlsx\n",
        "!rm -rf /content/mapa_con_imagenes.html"
      ],
      "metadata": {
        "id": "AHcXidvLmYIG"
      },
      "execution_count": null,
      "outputs": []
    },
    {
      "cell_type": "markdown",
      "source": [
        "Fin."
      ],
      "metadata": {
        "id": "6ZRQoE3DaeNo"
      }
    }
  ],
  "metadata": {
    "colab": {
      "provenance": [],
      "collapsed_sections": [
        "Qfeqh2f7j2y1",
        "Ta1yHMvsM5GD",
        "EpYgXsXvNAzI",
        "46SBxuDjYHTC",
        "IvwC3lfWchPN",
        "JkFMF3thPLHg",
        "RRkh12jm3Um-",
        "tP8QsfOmL4-y",
        "r6YT2re8pqMy"
      ],
      "include_colab_link": true
    },
    "kernelspec": {
      "display_name": "Python 3",
      "name": "python3"
    }
  },
  "nbformat": 4,
  "nbformat_minor": 0
}